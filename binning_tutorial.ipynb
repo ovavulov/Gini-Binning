{
 "cells": [
  {
   "cell_type": "markdown",
   "metadata": {
    "colab_type": "text",
    "id": "w-cYFESlZO_M"
   },
   "source": [
    "# Binning. Straighten your data\n"
   ]
  },
  {
   "cell_type": "markdown",
   "metadata": {
    "colab_type": "text",
    "id": "MRRN49bUZO_P"
   },
   "source": [
    "## Introduction & Motivation\n",
    "\n",
    "Binning is the common name for the set of approaches we can use for feature possible values range reducing. For example, we can split the continuous feature range into several parts and treat it like the categorical one. On the other side, we can merge some classes of the categorical variable. But why?\n",
    "\n",
    "First of all, the reasons depend on the type of feature we bin. For categorical ones, it's not good if we don't have enough observations in some classes. So our model won't be able to make confident predictions for this class (underfitting). Also binning is obviously effective mean against outliers in numerical features: every extremely huge or small characteristic value is hidden as another instance of the top or bottom bin.\n",
    "\n",
    "It's especially important that binning allows us to find and process non-monotonicity in numerical variables and hence we can make linear models work better without resorting to unstable and uninterpretable polynomial features.\n",
    "\n",
    "Another point of linear model improvement and the common advantage of the binning technique for both categorical and numerical features is missing values processing. Also, you can get a deeper understanding of your data and make feature selection using some special metrics for binning results evaluation.\n",
    "\n",
    "The most popular application of binning is a bank scorecard building. So in the tutorial, we will talk about the task - binary classification (are customer good or bad?) and the model - logistic regression. But I'm sure that these concepts are applicable for linear regression tasks too.\n",
    "\n",
    "So, how does it work?"
   ]
  },
  {
   "cell_type": "markdown",
   "metadata": {
    "colab_type": "text",
    "id": "ucepf4_XZO_Q"
   },
   "source": [
    "## Short Algorithms Review"
   ]
  },
  {
   "cell_type": "markdown",
   "metadata": {
    "colab_type": "text",
    "id": "7Hh4H6HmZO_R"
   },
   "source": [
    "The bank scoring theoretician Lyn C. Thomas said that binning technique \"is as much art as it is science\". That's true and obviously, there are many algorithms of binning.\n",
    "\n",
    "Trivial way is splitting into equal parts. We can do it cutting the range into intervals with equal width (same variable band into each bin) or with equal size (same number of observations).  But these methods don't count target distribution at all. Also, we don't have any criteria for the choice of optimal split-points.\n",
    "\n",
    "The more advanced path is to apply powerful statistical tests. The main idea is quite simple too.\n",
    "\n",
    "OK, we start with our previous step and for clarity let's split feature range into a number of the smallest intervals (one observation in each bin). As we mentioned in the introduction we are deciding a binary classification task, such as prediction of bank delinquencies. So we can write a target value 1 or 2 (for good and bad clients respectively) in every small bin on a training set. After adding the column of feature values we should arrange our table in feature ascending order. Imagine that we got something like this."
   ]
  },
  {
   "cell_type": "markdown",
   "metadata": {
    "colab_type": "text",
    "id": "qRPjSA_9ZO_S"
   },
   "source": [
    "<img src=\"./1.png\" />"
   ]
  },
  {
   "cell_type": "markdown",
   "metadata": {
    "colab_type": "text",
    "id": "EEvZnHinZO_T"
   },
   "source": [
    "Now for every pair of adjacent bins, we can build a contingency table. It presents a frequency distribution of instances among two binary variables: the bin in pair and the target value."
   ]
  },
  {
   "cell_type": "markdown",
   "metadata": {
    "colab_type": "text",
    "id": "pYyrxQDTZO_U"
   },
   "source": [
    "<img src=\"./2.png\" />"
   ]
  },
  {
   "cell_type": "markdown",
   "metadata": {
    "colab_type": "text",
    "id": "OcUj4cWNZO_V"
   },
   "source": [
    "Statistics is starting! We are looking for similar pairs of adjacent bins to merge them, isn't it? So our null hypothesis stating is that bins have the same one-two frequency distribution and observed difference arose by chance. Let's compute expected values of frequency in this case (don't scare they can be fractions!) and check for every pair how far it from being siblings. We can do it using Pearson's chi-squared distance."
   ]
  },
  {
   "cell_type": "markdown",
   "metadata": {
    "colab_type": "text",
    "id": "wEcIyQUOZO_W"
   },
   "source": [
    "<img src=\"./3.png\" />"
   ]
  },
  {
   "cell_type": "markdown",
   "metadata": {
    "colab_type": "text",
    "id": "seaR2L8QZO_X"
   },
   "source": [
    "Here I have to note that it is not a real statistical test because there are some constraints for Pearson's chi-squared test (we need more observations in each cell). But since we don't compute the p-value it is not very crucial. Apart from that, it's better to initialize bins with much more instances in each one in real-life cases.\n",
    "\n",
    "OK, we have calculated statistics for all the pairs. There is a zero division problem for when adjacent bins have equal target distribution but we skip it and consider Pearson's distance is zero in these cases."
   ]
  },
  {
   "cell_type": "markdown",
   "metadata": {
    "colab_type": "text",
    "id": "yOVCOxUiZO_Y"
   },
   "source": [
    "<img src=\"./4.png\" />"
   ]
  },
  {
   "cell_type": "markdown",
   "metadata": {
    "colab_type": "text",
    "id": "RQJPSL3BZO_Y"
   },
   "source": [
    "We merge the most similar bins (with minimal chi-squared) and recalculate statistics and repeat and repeat again until we have stepped some predefined threshold for the greatest chi-square distance. One could use p-value to set this threshold but it is important to remember about mentioned constraints."
   ]
  },
  {
   "cell_type": "markdown",
   "metadata": {
    "colab_type": "text",
    "id": "F3rkcZ65ZO_Z"
   },
   "source": [
    "<img src=\"./5.png\" />"
   ]
  },
  {
   "cell_type": "markdown",
   "metadata": {
    "colab_type": "text",
    "id": "ok1g83qSZO_a"
   },
   "source": [
    "It is possible to apply another statistical test or other similarity measures. However, the main idea of optimal statistical binning is splitting the characteristic possible answer set into intervals which have the most different good-bad proportion."
   ]
  },
  {
   "cell_type": "markdown",
   "metadata": {
    "colab_type": "text",
    "id": "Fehe7Cj1ZO_b"
   },
   "source": [
    "The described approach is widespread but it is not only one. There are tree-based algorithms: conditional inference trees or traditional decision trees with information gain as splitting criteria.\n",
    "\n",
    "If we have strong prior knowledge that the bad rate (or target rate, bad clients percentage) will be monotone in some variable then the best way is using Maximum likelihood monotone coarse classifier (MLMCC). It provides a strict linear dependence between predictor and bad rate i.e. the maximum likelihood splitting in full concordance with its name.\n",
    "\n",
    "OK, I hope you feel that there is not any rocket science in binning. So feel free to be an artist. You can combine some of these methods to do your best for decision your own task. Links to the useful sources where you can get more detail are in the references at the end of the tutorial."
   ]
  },
  {
   "cell_type": "markdown",
   "metadata": {
    "colab_type": "text",
    "id": "XdXNC1aiZO_c"
   },
   "source": [
    "## WoE & IV"
   ]
  },
  {
   "cell_type": "markdown",
   "metadata": {
    "colab_type": "text",
    "id": "2pib3t-nZO_d"
   },
   "source": [
    "Weight of evidence (WoE) and Information Value (IV) are the most commonly used metrics for evaluation binning results.\n",
    "WoE is calculated for each separate bin and shows how much does target distribution in the bin distinct from distribution on the whole train set:\n",
    "\n",
    "<img src=\"./7.png\" />\n",
    "Here $\\sum{G_i}$ and $\\sum{B_i}$ are amounts of good and bad instances in the ith bin. Obviously, if we put random samples in the bin we would get nearly the same distribution in it and WoE would be zero. The WoE range is from -inf to +inf, so it presents how far is our bin from just a random sample.\n",
    "\n",
    "To evaluate the predictive power of whole binned predictor one should use IV:\n",
    "\n",
    "<img src=\"./6.png\" />\n",
    "By convention, we have some simple rules for predictor IV values: \n",
    "- less than 0.02: not useful predictor;\n",
    "- 0.02 to 0.1: weak predictor;\n",
    "- 0.1 to 0.3: medium predictor;\n",
    "- 0.3 to 0.5: strong predictor;\n",
    "- more than 0.5: suspicious predictor (should be checked for data leakage or some other mistakes).\n",
    "\n",
    "So, we can evaluate, compare and select features using IV.\n",
    "\n",
    "Another noteworthy trick is WoE-encoding of binned categorical predictors. It allows avoiding dataset explosion with a lot of dummy variables and it is similar to the target encoding technique. We just need to write in every bin its WoE value and launch logistic regression."
   ]
  },
  {
   "cell_type": "markdown",
   "metadata": {
    "colab_type": "text",
    "id": "5FTNXPRHZO_d"
   },
   "source": [
    "## Python Implementation"
   ]
  },
  {
   "cell_type": "markdown",
   "metadata": {
    "colab_type": "text",
    "id": "IY3ANB1kZO_e"
   },
   "source": [
    "When I faced with binning at my job (of course, it's a bank) I was surprised that there wasn't suitable open source packages for it in Python. So I've coded it myself.\n",
    "\n",
    "You can find the full code of my implementation of binning in file **pwlf_binner.py**."
   ]
  },
  {
   "cell_type": "markdown",
   "metadata": {
    "colab_type": "text",
    "id": "8UQrq-8KZO_f"
   },
   "source": [
    "The main idea of my algorithm is to approximate ROC-curve. We will lose the least amount if information about our data if we do so. You just should pass in constructor required number of bins."
   ]
  },
  {
   "cell_type": "markdown",
   "metadata": {
    "colab_type": "text",
    "id": "TLcrZhDGZO_g"
   },
   "source": [
    "<img src=\"./example.png\" />"
   ]
  },
  {
   "cell_type": "markdown",
   "metadata": {
    "colab_type": "text",
    "id": "qCyOsJkUZO_h"
   },
   "source": [
    "Under the hood, binner uses differential evolution minimisation algorithm."
   ]
  },
  {
   "cell_type": "markdown",
   "metadata": {
    "colab_type": "text",
    "id": "RJmUXEe-ZO_i"
   },
   "source": [
    "Ok, let's check how it can help us."
   ]
  },
  {
   "cell_type": "markdown",
   "metadata": {
    "colab_type": "text",
    "id": "SgbE5LGpZO_i"
   },
   "source": [
    "## Let's check it"
   ]
  },
  {
   "cell_type": "markdown",
   "metadata": {
    "colab_type": "text",
    "id": "9sqJk4d2ZO_j"
   },
   "source": [
    "For model training, we will use data about bank customers and their delinquencies from [Yorko's Git](https://github.com/Yorko/mlcourse.ai).\n",
    "\n",
    "We will n drop all NaN from dataset so that we will be able to compare logistic regression performance on binned and unbinned data."
   ]
  },
  {
   "cell_type": "code",
   "execution_count": 1,
   "metadata": {
    "colab": {
     "base_uri": "https://localhost:8080/",
     "height": 64
    },
    "colab_type": "code",
    "id": "7TLrHmUrZO_k",
    "outputId": "b8ee1b82-cbaa-4f8a-9d06-5997aa0441f3"
   },
   "outputs": [
    {
     "name": "stdout",
     "output_type": "stream",
     "text": [
      "Warning: Install tensorflow to have access to PiecewiseLinFitTF.\n"
     ]
    }
   ],
   "source": [
    "#prerequirements\n",
    "import warnings\n",
    "warnings.filterwarnings('ignore')\n",
    "import pandas as pd\n",
    "import numpy as np\n",
    "from sklearn.linear_model import LogisticRegression\n",
    "from sklearn.model_selection import train_test_split\n",
    "from sklearn.metrics import roc_auc_score\n",
    "import pwlf\n",
    "import scipy\n",
    "from hyperopt import fmin, hp, tpe, atpe, anneal, rand, Trials\n",
    "from pybinning import simplex_binner, pwlf_binner, hyper_binner"
   ]
  },
  {
   "cell_type": "code",
   "execution_count": 2,
   "metadata": {
    "colab": {},
    "colab_type": "code",
    "id": "4l5BNgr8ZO_n"
   },
   "outputs": [],
   "source": [
    "data = pd.read_csv('./credit_scoring_train.csv')"
   ]
  },
  {
   "cell_type": "code",
   "execution_count": 3,
   "metadata": {
    "colab": {
     "base_uri": "https://localhost:8080/",
     "height": 235
    },
    "colab_type": "code",
    "id": "-07MEGZxq-hL",
    "outputId": "398ce305-a5dc-4004-dfd8-fd2bb6f97955"
   },
   "outputs": [
    {
     "data": {
      "text/html": [
       "<div>\n",
       "<style scoped>\n",
       "    .dataframe tbody tr th:only-of-type {\n",
       "        vertical-align: middle;\n",
       "    }\n",
       "\n",
       "    .dataframe tbody tr th {\n",
       "        vertical-align: top;\n",
       "    }\n",
       "\n",
       "    .dataframe thead th {\n",
       "        text-align: right;\n",
       "    }\n",
       "</style>\n",
       "<table border=\"1\" class=\"dataframe\">\n",
       "  <thead>\n",
       "    <tr style=\"text-align: right;\">\n",
       "      <th></th>\n",
       "      <th>client_id</th>\n",
       "      <th>DIR</th>\n",
       "      <th>Age</th>\n",
       "      <th>NumLoans</th>\n",
       "      <th>NumRealEstateLoans</th>\n",
       "      <th>NumDependents</th>\n",
       "      <th>Num30-59Delinquencies</th>\n",
       "      <th>Num60-89Delinquencies</th>\n",
       "      <th>Income</th>\n",
       "      <th>BalanceToCreditLimit</th>\n",
       "      <th>Delinquent90</th>\n",
       "    </tr>\n",
       "  </thead>\n",
       "  <tbody>\n",
       "    <tr>\n",
       "      <th>0</th>\n",
       "      <td>0</td>\n",
       "      <td>0.496289</td>\n",
       "      <td>49.1</td>\n",
       "      <td>13</td>\n",
       "      <td>0</td>\n",
       "      <td>0.0</td>\n",
       "      <td>2</td>\n",
       "      <td>0</td>\n",
       "      <td>5298.360639</td>\n",
       "      <td>0.387028</td>\n",
       "      <td>0</td>\n",
       "    </tr>\n",
       "    <tr>\n",
       "      <th>1</th>\n",
       "      <td>1</td>\n",
       "      <td>0.433567</td>\n",
       "      <td>48.0</td>\n",
       "      <td>9</td>\n",
       "      <td>2</td>\n",
       "      <td>2.0</td>\n",
       "      <td>1</td>\n",
       "      <td>0</td>\n",
       "      <td>6008.056256</td>\n",
       "      <td>0.234679</td>\n",
       "      <td>0</td>\n",
       "    </tr>\n",
       "    <tr>\n",
       "      <th>2</th>\n",
       "      <td>2</td>\n",
       "      <td>2206.731199</td>\n",
       "      <td>55.5</td>\n",
       "      <td>21</td>\n",
       "      <td>1</td>\n",
       "      <td>NaN</td>\n",
       "      <td>1</td>\n",
       "      <td>0</td>\n",
       "      <td>NaN</td>\n",
       "      <td>0.348227</td>\n",
       "      <td>0</td>\n",
       "    </tr>\n",
       "    <tr>\n",
       "      <th>3</th>\n",
       "      <td>3</td>\n",
       "      <td>886.132793</td>\n",
       "      <td>55.3</td>\n",
       "      <td>3</td>\n",
       "      <td>0</td>\n",
       "      <td>0.0</td>\n",
       "      <td>0</td>\n",
       "      <td>0</td>\n",
       "      <td>NaN</td>\n",
       "      <td>0.971930</td>\n",
       "      <td>0</td>\n",
       "    </tr>\n",
       "    <tr>\n",
       "      <th>4</th>\n",
       "      <td>4</td>\n",
       "      <td>0.000000</td>\n",
       "      <td>52.3</td>\n",
       "      <td>1</td>\n",
       "      <td>0</td>\n",
       "      <td>0.0</td>\n",
       "      <td>0</td>\n",
       "      <td>0</td>\n",
       "      <td>2504.613105</td>\n",
       "      <td>1.004350</td>\n",
       "      <td>0</td>\n",
       "    </tr>\n",
       "  </tbody>\n",
       "</table>\n",
       "</div>"
      ],
      "text/plain": [
       "   client_id          DIR   Age  NumLoans  NumRealEstateLoans  NumDependents  \\\n",
       "0          0     0.496289  49.1        13                   0            0.0   \n",
       "1          1     0.433567  48.0         9                   2            2.0   \n",
       "2          2  2206.731199  55.5        21                   1            NaN   \n",
       "3          3   886.132793  55.3         3                   0            0.0   \n",
       "4          4     0.000000  52.3         1                   0            0.0   \n",
       "\n",
       "   Num30-59Delinquencies  Num60-89Delinquencies       Income  \\\n",
       "0                      2                      0  5298.360639   \n",
       "1                      1                      0  6008.056256   \n",
       "2                      1                      0          NaN   \n",
       "3                      0                      0          NaN   \n",
       "4                      0                      0  2504.613105   \n",
       "\n",
       "   BalanceToCreditLimit  Delinquent90  \n",
       "0              0.387028             0  \n",
       "1              0.234679             0  \n",
       "2              0.348227             0  \n",
       "3              0.971930             0  \n",
       "4              1.004350             0  "
      ]
     },
     "execution_count": 3,
     "metadata": {},
     "output_type": "execute_result"
    }
   ],
   "source": [
    "data.head()"
   ]
  },
  {
   "cell_type": "code",
   "execution_count": 4,
   "metadata": {
    "colab": {},
    "colab_type": "code",
    "id": "XPMJoVm1ZO_p"
   },
   "outputs": [],
   "source": [
    "target = data['Delinquent90']\n",
    "X_train, X_val, y_train, y_val = train_test_split(\n",
    "    data.drop(columns=['Delinquent90', 'client_id']), target,\n",
    "    test_size=0.3, shuffle=True, random_state=19\n",
    ")"
   ]
  },
  {
   "cell_type": "markdown",
   "metadata": {
    "colab_type": "text",
    "id": "sdMa0IMb2Ew_"
   },
   "source": [
    "Simplex binner"
   ]
  },
  {
   "cell_type": "code",
   "execution_count": 5,
   "metadata": {
    "colab": {
     "base_uri": "https://localhost:8080/",
     "height": 69
    },
    "colab_type": "code",
    "id": "ykfY0kABZO_s",
    "outputId": "ad8d7fbe-9aec-49b0-9169-7c4be21a7b62"
   },
   "outputs": [
    {
     "name": "stderr",
     "output_type": "stream",
     "text": [
      "100%|██████████| 9/9 [05:46<00:00, 38.48s/it] "
     ]
    },
    {
     "name": "stdout",
     "output_type": "stream",
     "text": [
      "CPU times: user 5min 38s, sys: 2.06 s, total: 5min 40s\n",
      "Wall time: 5min 46s\n"
     ]
    },
    {
     "name": "stderr",
     "output_type": "stream",
     "text": [
      "\n"
     ]
    }
   ],
   "source": [
    "%%time\n",
    "binner = simplex_binner(full=True)\n",
    "X_train_sbinned = binner.fit_transform(X_train, y_train)"
   ]
  },
  {
   "cell_type": "code",
   "execution_count": 6,
   "metadata": {
    "colab": {
     "base_uri": "https://localhost:8080/",
     "height": 35
    },
    "colab_type": "code",
    "id": "SolFrRUaZO_v",
    "outputId": "6f34f56b-43b5-4a1e-b9aa-fb598937ae30"
   },
   "outputs": [
    {
     "name": "stderr",
     "output_type": "stream",
     "text": [
      "100%|██████████| 9/9 [00:01<00:00,  7.72it/s]\n"
     ]
    }
   ],
   "source": [
    "X_val_sbinned = binner.transform(X_val)"
   ]
  },
  {
   "cell_type": "code",
   "execution_count": 7,
   "metadata": {
    "colab": {
     "base_uri": "https://localhost:8080/",
     "height": 35
    },
    "colab_type": "code",
    "id": "GpgS6XqsZO_z",
    "outputId": "3484ae4d-4c0d-407d-c58d-33bd7bcd0cac"
   },
   "outputs": [
    {
     "name": "stdout",
     "output_type": "stream",
     "text": [
      "Gini is 0.6261922367977519\n"
     ]
    }
   ],
   "source": [
    "lr = LogisticRegression()\n",
    "lr.fit(X_train_sbinned, y_train)\n",
    "y_spred = lr.predict_proba(X_val_sbinned)[:,1]\n",
    "print('Gini is', roc_auc_score(y_val, y_spred)*2 - 1)"
   ]
  },
  {
   "cell_type": "markdown",
   "metadata": {
    "colab_type": "text",
    "id": "r2rxagFc5_za"
   },
   "source": [
    "PWLF binner"
   ]
  },
  {
   "cell_type": "code",
   "execution_count": 8,
   "metadata": {
    "colab": {},
    "colab_type": "code",
    "id": "BcX01_TpLlj1"
   },
   "outputs": [
    {
     "name": "stderr",
     "output_type": "stream",
     "text": [
      "100%|██████████| 9/9 [04:16<00:00, 28.55s/it]"
     ]
    },
    {
     "name": "stdout",
     "output_type": "stream",
     "text": [
      "CPU times: user 14min 41s, sys: 36.6 s, total: 15min 17s\n",
      "Wall time: 4min 17s\n"
     ]
    },
    {
     "name": "stderr",
     "output_type": "stream",
     "text": [
      "\n"
     ]
    }
   ],
   "source": [
    "%%time\n",
    "binner = pwlf_binner(fast=True)\n",
    "X_train_pbinned = binner.fit_transform(X_train, y_train)"
   ]
  },
  {
   "cell_type": "code",
   "execution_count": 9,
   "metadata": {
    "colab": {
     "base_uri": "https://localhost:8080/",
     "height": 35
    },
    "colab_type": "code",
    "id": "znY95VccLlmz",
    "outputId": "6e160190-0201-45b4-b4ec-d18eadb0bb2b"
   },
   "outputs": [
    {
     "name": "stderr",
     "output_type": "stream",
     "text": [
      "100%|██████████| 9/9 [00:01<00:00,  7.77it/s]\n"
     ]
    }
   ],
   "source": [
    "X_val_pbinned = binner.transform(X_val)"
   ]
  },
  {
   "cell_type": "code",
   "execution_count": 10,
   "metadata": {
    "colab": {
     "base_uri": "https://localhost:8080/",
     "height": 35
    },
    "colab_type": "code",
    "id": "MH2pED69Llpi",
    "outputId": "f52f8546-b494-4f58-a313-e68466c0183d"
   },
   "outputs": [
    {
     "name": "stdout",
     "output_type": "stream",
     "text": [
      "Gini is 0.6241129324697132\n"
     ]
    }
   ],
   "source": [
    "lr = LogisticRegression()\n",
    "lr.fit(X_train_pbinned, y_train)\n",
    "y_ppred = lr.predict_proba(X_val_pbinned)[:,1]\n",
    "print('Gini is', roc_auc_score(y_val, y_ppred)*2 - 1)"
   ]
  },
  {
   "cell_type": "markdown",
   "metadata": {
    "colab_type": "text",
    "id": "MDaQuIP67ovp"
   },
   "source": [
    "Hyper binner"
   ]
  },
  {
   "cell_type": "code",
   "execution_count": 11,
   "metadata": {
    "colab": {
     "base_uri": "https://localhost:8080/",
     "height": 69
    },
    "colab_type": "code",
    "id": "7O7mKe-7LlsM",
    "outputId": "a33249f0-e1cd-4f65-ae09-2b1a8b90a98e"
   },
   "outputs": [
    {
     "name": "stderr",
     "output_type": "stream",
     "text": [
      "100%|██████████| 9/9 [00:09<00:00,  1.08s/it]"
     ]
    },
    {
     "name": "stdout",
     "output_type": "stream",
     "text": [
      "CPU times: user 10.1 s, sys: 147 ms, total: 10.2 s\n",
      "Wall time: 9.75 s\n"
     ]
    },
    {
     "name": "stderr",
     "output_type": "stream",
     "text": [
      "\n"
     ]
    }
   ],
   "source": [
    "%%time\n",
    "binner = hyper_binner(full=True)\n",
    "X_train_hbinned = binner.fit_transform(X_train, y_train)"
   ]
  },
  {
   "cell_type": "code",
   "execution_count": 12,
   "metadata": {
    "colab": {
     "base_uri": "https://localhost:8080/",
     "height": 35
    },
    "colab_type": "code",
    "id": "mw3NCVIl2sJV",
    "outputId": "5527af44-bc7b-447a-e383-1d4eab274790"
   },
   "outputs": [
    {
     "name": "stderr",
     "output_type": "stream",
     "text": [
      "100%|██████████| 9/9 [00:01<00:00,  8.01it/s]\n"
     ]
    }
   ],
   "source": [
    "X_val_hbinned = binner.transform(X_val)"
   ]
  },
  {
   "cell_type": "code",
   "execution_count": 13,
   "metadata": {
    "colab": {
     "base_uri": "https://localhost:8080/",
     "height": 35
    },
    "colab_type": "code",
    "id": "K95YVKrC8SMv",
    "outputId": "d842df4c-5abd-40f4-9383-7ba72a16abca"
   },
   "outputs": [
    {
     "name": "stdout",
     "output_type": "stream",
     "text": [
      "Gini is 0.6247459210656068\n"
     ]
    }
   ],
   "source": [
    "lr = LogisticRegression()\n",
    "lr.fit(X_train_hbinned, y_train)\n",
    "y_hpred = lr.predict_proba(X_val_hbinned)[:,1]\n",
    "print('Gini is', roc_auc_score(y_val, y_hpred)*2 - 1)"
   ]
  },
  {
   "cell_type": "markdown",
   "metadata": {
    "colab_type": "text",
    "id": "MlJXy4pK2tWk"
   },
   "source": [
    "Model without binning"
   ]
  },
  {
   "cell_type": "code",
   "execution_count": 14,
   "metadata": {
    "colab": {
     "base_uri": "https://localhost:8080/",
     "height": 173
    },
    "colab_type": "code",
    "id": "HIpXlHpQ2sL_",
    "outputId": "ae8e89da-9bff-4a4b-c6e6-0e61e17fa2f3"
   },
   "outputs": [
    {
     "name": "stdout",
     "output_type": "stream",
     "text": [
      "Gini is 0.3480737383169472\n"
     ]
    }
   ],
   "source": [
    "data_full = data.dropna()\n",
    "target_full = data_full['Delinquent90']\n",
    "X_train_full, X_val_full, y_train_full, y_val_full = train_test_split(\n",
    "    data_full.drop(columns=['Delinquent90', 'client_id']), target_full,\n",
    "    test_size=0.3, shuffle=True, random_state=19\n",
    ")\n",
    "lr = LogisticRegression()\n",
    "lr.fit(X_train_full, y_train_full)\n",
    "y_pred_full = lr.predict_proba(X_val_full)[:,1]\n",
    "print('Gini is', roc_auc_score(y_val_full, y_pred_full)*2 - 1)"
   ]
  },
  {
   "cell_type": "markdown",
   "metadata": {
    "colab_type": "text",
    "id": "LOSyUshfZO_1"
   },
   "source": [
    "We have got great gain in our model quality!"
   ]
  }
 ],
 "metadata": {
  "colab": {
   "collapsed_sections": [],
   "name": "ovavulov_tutorial_binning.ipynb",
   "provenance": [],
   "toc_visible": true
  },
  "kernelspec": {
   "display_name": "Python 3",
   "language": "python",
   "name": "python3"
  },
  "language_info": {
   "codemirror_mode": {
    "name": "ipython",
    "version": 3
   },
   "file_extension": ".py",
   "mimetype": "text/x-python",
   "name": "python",
   "nbconvert_exporter": "python",
   "pygments_lexer": "ipython3",
   "version": "3.7.6"
  }
 },
 "nbformat": 4,
 "nbformat_minor": 4
}
