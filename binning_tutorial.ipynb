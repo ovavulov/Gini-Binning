{
  "nbformat": 4,
  "nbformat_minor": 0,
  "metadata": {
    "colab": {
      "name": "binning_tutorial.ipynb",
      "provenance": [],
      "collapsed_sections": []
    },
    "kernelspec": {
      "display_name": "Python 3",
      "language": "python",
      "name": "python3"
    },
    "language_info": {
      "codemirror_mode": {
        "name": "ipython",
        "version": 3
      },
      "file_extension": ".py",
      "mimetype": "text/x-python",
      "name": "python",
      "nbconvert_exporter": "python",
      "pygments_lexer": "ipython3",
      "version": "3.7.6"
    }
  },
  "cells": [
    {
      "cell_type": "markdown",
      "metadata": {
        "colab_type": "text",
        "id": "w-cYFESlZO_M"
      },
      "source": [
        "# Binning. Straighten your data\n"
      ]
    },
    {
      "cell_type": "markdown",
      "metadata": {
        "colab_type": "text",
        "id": "MRRN49bUZO_P"
      },
      "source": [
        "## Introduction & Motivation\n",
        "\n",
        "Binning is the common name for the set of approaches we can use for feature possible values range reducing. For example, we can split the continuous feature range into several parts and treat it like the categorical one. On the other side, we can merge some classes of the categorical variable. But why?\n",
        "\n",
        "First of all, the reasons depend on the type of feature we bin. For categorical ones, it's not good if we don't have enough observations in some classes. So our model won't be able to make confident predictions for this class (underfitting). Also binning is obviously effective mean against outliers in numerical features: every extremely huge or small characteristic value is hidden as another instance of the top or bottom bin.\n",
        "\n",
        "It's especially important that binning allows us to find and process non-monotonicity in numerical variables and hence we can make linear models work better without resorting to unstable and uninterpretable polynomial features.\n",
        "\n",
        "Another point of linear model improvement and the common advantage of the binning technique for both categorical and numerical features is missing values processing. Also, you can get a deeper understanding of your data and make feature selection using some special metrics for binning results evaluation.\n",
        "\n",
        "The most popular application of binning is a bank scorecard building. So in the tutorial, we will talk about the task - binary classification (are customer good or bad?) and the model - logistic regression. But I'm sure that these concepts are applicable for linear regression tasks too.\n",
        "\n",
        "So, how does it work?"
      ]
    },
    {
      "cell_type": "markdown",
      "metadata": {
        "colab_type": "text",
        "id": "ucepf4_XZO_Q"
      },
      "source": [
        "## Short Algorithms Review"
      ]
    },
    {
      "cell_type": "markdown",
      "metadata": {
        "colab_type": "text",
        "id": "7Hh4H6HmZO_R"
      },
      "source": [
        "The bank scoring theoretician Lyn C. Thomas said that binning technique \"is as much art as it is science\". That's true and obviously, there are many algorithms of binning.\n",
        "\n",
        "Trivial way is splitting into equal parts. We can do it cutting the range into intervals with equal width (same variable band into each bin) or with equal size (same number of observations).  But these methods don't count target distribution at all. Also, we don't have any criteria for the choice of optimal split-points.\n",
        "\n",
        "The more advanced path is to apply powerful statistical tests. The main idea is quite simple too.\n",
        "\n",
        "OK, we start with our previous step and for clarity let's split feature range into a number of the smallest intervals (one observation in each bin). As we mentioned in the introduction we are deciding a binary classification task, such as prediction of bank delinquencies. So we can write a target value 1 or 2 (for good and bad clients respectively) in every small bin on a training set. After adding the column of feature values we should arrange our table in feature ascending order. Imagine that we got something like this."
      ]
    },
    {
      "cell_type": "markdown",
      "metadata": {
        "colab_type": "text",
        "id": "qRPjSA_9ZO_S"
      },
      "source": [
        "<img src=\"./1.png\" />"
      ]
    },
    {
      "cell_type": "markdown",
      "metadata": {
        "colab_type": "text",
        "id": "EEvZnHinZO_T"
      },
      "source": [
        "Now for every pair of adjacent bins, we can build a contingency table. It presents a frequency distribution of instances among two binary variables: the bin in pair and the target value."
      ]
    },
    {
      "cell_type": "markdown",
      "metadata": {
        "colab_type": "text",
        "id": "pYyrxQDTZO_U"
      },
      "source": [
        "<img src=\"./2.png\" />"
      ]
    },
    {
      "cell_type": "markdown",
      "metadata": {
        "colab_type": "text",
        "id": "OcUj4cWNZO_V"
      },
      "source": [
        "Statistics is starting! We are looking for similar pairs of adjacent bins to merge them, isn't it? So our null hypothesis stating is that bins have the same one-two frequency distribution and observed difference arose by chance. Let's compute expected values of frequency in this case (don't scare they can be fractions!) and check for every pair how far it from being siblings. We can do it using Pearson's chi-squared distance."
      ]
    },
    {
      "cell_type": "markdown",
      "metadata": {
        "colab_type": "text",
        "id": "wEcIyQUOZO_W"
      },
      "source": [
        "<img src=\"./3.png\" />"
      ]
    },
    {
      "cell_type": "markdown",
      "metadata": {
        "colab_type": "text",
        "id": "seaR2L8QZO_X"
      },
      "source": [
        "Here I have to note that it is not a real statistical test because there are some constraints for Pearson's chi-squared test (we need more observations in each cell). But since we don't compute the p-value it is not very crucial. Apart from that, it's better to initialize bins with much more instances in each one in real-life cases.\n",
        "\n",
        "OK, we have calculated statistics for all the pairs. There is a zero division problem for when adjacent bins have equal target distribution but we skip it and consider Pearson's distance is zero in these cases."
      ]
    },
    {
      "cell_type": "markdown",
      "metadata": {
        "colab_type": "text",
        "id": "yOVCOxUiZO_Y"
      },
      "source": [
        "<img src=\"./4.png\" />"
      ]
    },
    {
      "cell_type": "markdown",
      "metadata": {
        "colab_type": "text",
        "id": "RQJPSL3BZO_Y"
      },
      "source": [
        "We merge the most similar bins (with minimal chi-squared) and recalculate statistics and repeat and repeat again until we have stepped some predefined threshold for the greatest chi-square distance. One could use p-value to set this threshold but it is important to remember about mentioned constraints."
      ]
    },
    {
      "cell_type": "markdown",
      "metadata": {
        "colab_type": "text",
        "id": "F3rkcZ65ZO_Z"
      },
      "source": [
        "<img src=\"./5.png\" />"
      ]
    },
    {
      "cell_type": "markdown",
      "metadata": {
        "colab_type": "text",
        "id": "ok1g83qSZO_a"
      },
      "source": [
        "It is possible to apply another statistical test or other similarity measures. However, the main idea of optimal statistical binning is splitting the characteristic possible answer set into intervals which have the most different good-bad proportion."
      ]
    },
    {
      "cell_type": "markdown",
      "metadata": {
        "colab_type": "text",
        "id": "Fehe7Cj1ZO_b"
      },
      "source": [
        "The described approach is widespread but it is not only one. There are tree-based algorithms: conditional inference trees or traditional decision trees with information gain as splitting criteria.\n",
        "\n",
        "If we have strong prior knowledge that the bad rate (or target rate, bad clients percentage) will be monotone in some variable then the best way is using Maximum likelihood monotone coarse classifier (MLMCC). It provides a strict linear dependence between predictor and bad rate i.e. the maximum likelihood splitting in full concordance with its name.\n",
        "\n",
        "OK, I hope you feel that there is not any rocket science in binning. So feel free to be an artist. You can combine some of these methods to do your best for decision your own task. Links to the useful sources where you can get more detail are in the references at the end of the tutorial."
      ]
    },
    {
      "cell_type": "markdown",
      "metadata": {
        "colab_type": "text",
        "id": "XdXNC1aiZO_c"
      },
      "source": [
        "## WoE & IV"
      ]
    },
    {
      "cell_type": "markdown",
      "metadata": {
        "colab_type": "text",
        "id": "2pib3t-nZO_d"
      },
      "source": [
        "Weight of evidence (WoE) and Information Value (IV) are the most commonly used metrics for evaluation binning results.\n",
        "WoE is calculated for each separate bin and shows how much does target distribution in the bin distinct from distribution on the whole train set:\n",
        "\n",
        "<img src=\"./7.png\" />\n",
        "Here $\\sum{G_i}$ and $\\sum{B_i}$ are amounts of good and bad instances in the ith bin. Obviously, if we put random samples in the bin we would get nearly the same distribution in it and WoE would be zero. The WoE range is from -inf to +inf, so it presents how far is our bin from just a random sample.\n",
        "\n",
        "To evaluate the predictive power of whole binned predictor one should use IV:\n",
        "\n",
        "<img src=\"./6.png\" />\n",
        "By convention, we have some simple rules for predictor IV values: \n",
        "- less than 0.02: not useful predictor;\n",
        "- 0.02 to 0.1: weak predictor;\n",
        "- 0.1 to 0.3: medium predictor;\n",
        "- 0.3 to 0.5: strong predictor;\n",
        "- more than 0.5: suspicious predictor (should be checked for data leakage or some other mistakes).\n",
        "\n",
        "So, we can evaluate, compare and select features using IV.\n",
        "\n",
        "Another noteworthy trick is WoE-encoding of binned categorical predictors. It allows avoiding dataset explosion with a lot of dummy variables and it is similar to the target encoding technique. We just need to write in every bin its WoE value and launch logistic regression."
      ]
    },
    {
      "cell_type": "markdown",
      "metadata": {
        "colab_type": "text",
        "id": "5FTNXPRHZO_d"
      },
      "source": [
        "## Python Implementation"
      ]
    },
    {
      "cell_type": "markdown",
      "metadata": {
        "colab_type": "text",
        "id": "IY3ANB1kZO_e"
      },
      "source": [
        "When I faced with binning at my job (of course, it's a bank) I was surprised that there wasn't suitable open source packages for it in Python. So I've coded it myself.\n",
        "\n",
        "You can find the full code of my implementation of binning in file **pwlf_binner.py**."
      ]
    },
    {
      "cell_type": "markdown",
      "metadata": {
        "colab_type": "text",
        "id": "8UQrq-8KZO_f"
      },
      "source": [
        "The main idea of my algorithm is to approximate ROC-curve. We will lose the least amount if information about our data if we do so. You just should pass in constructor required number of bins."
      ]
    },
    {
      "cell_type": "markdown",
      "metadata": {
        "colab_type": "text",
        "id": "TLcrZhDGZO_g"
      },
      "source": [
        "<img src=\"./example.png\" />"
      ]
    },
    {
      "cell_type": "markdown",
      "metadata": {
        "colab_type": "text",
        "id": "qCyOsJkUZO_h"
      },
      "source": [
        "Under the hood, binner uses differential evolution minimisation algorithm."
      ]
    },
    {
      "cell_type": "markdown",
      "metadata": {
        "colab_type": "text",
        "id": "RJmUXEe-ZO_i"
      },
      "source": [
        "Ok, let's check how it can help us."
      ]
    },
    {
      "cell_type": "markdown",
      "metadata": {
        "colab_type": "text",
        "id": "SgbE5LGpZO_i"
      },
      "source": [
        "## Let's check it"
      ]
    },
    {
      "cell_type": "markdown",
      "metadata": {
        "colab_type": "text",
        "id": "9sqJk4d2ZO_j"
      },
      "source": [
        "For model training, we will use data about bank customers and their delinquencies from [Yorko's Git](https://github.com/Yorko/mlcourse.ai).\n",
        "\n",
        "We will n drop all NaN from dataset so that we will be able to compare logistic regression performance on binned and unbinned data."
      ]
    },
    {
      "cell_type": "code",
      "metadata": {
        "id": "t9yClTASKUjx",
        "colab_type": "code",
        "colab": {}
      },
      "source": [
        "# firstly you should update your hyperopt library \n",
        "# !pip install -U hyperopt"
      ],
      "execution_count": 0,
      "outputs": []
    },
    {
      "cell_type": "code",
      "metadata": {
        "colab_type": "code",
        "id": "7TLrHmUrZO_k",
        "colab": {}
      },
      "source": [
        "#prerequirements\n",
        "import warnings\n",
        "warnings.filterwarnings('ignore')\n",
        "import pandas as pd\n",
        "import numpy as np\n",
        "from sklearn.linear_model import LogisticRegression\n",
        "from sklearn.model_selection import train_test_split\n",
        "from sklearn.metrics import roc_auc_score\n",
        "from hyperopt import fmin, hp, tpe, atpe, anneal, rand, Trials\n",
        "from pybinning import GiniBinner"
      ],
      "execution_count": 0,
      "outputs": []
    },
    {
      "cell_type": "code",
      "metadata": {
        "colab_type": "code",
        "id": "4l5BNgr8ZO_n",
        "colab": {}
      },
      "source": [
        "data = pd.read_csv('./credit_scoring_train.csv')"
      ],
      "execution_count": 0,
      "outputs": []
    },
    {
      "cell_type": "code",
      "metadata": {
        "colab_type": "code",
        "id": "-07MEGZxq-hL",
        "outputId": "7ee7b901-9137-409b-fd6c-a62e2eba70a8",
        "colab": {
          "base_uri": "https://localhost:8080/",
          "height": 232
        }
      },
      "source": [
        "data.head()"
      ],
      "execution_count": 4,
      "outputs": [
        {
          "output_type": "execute_result",
          "data": {
            "text/html": [
              "<div>\n",
              "<style scoped>\n",
              "    .dataframe tbody tr th:only-of-type {\n",
              "        vertical-align: middle;\n",
              "    }\n",
              "\n",
              "    .dataframe tbody tr th {\n",
              "        vertical-align: top;\n",
              "    }\n",
              "\n",
              "    .dataframe thead th {\n",
              "        text-align: right;\n",
              "    }\n",
              "</style>\n",
              "<table border=\"1\" class=\"dataframe\">\n",
              "  <thead>\n",
              "    <tr style=\"text-align: right;\">\n",
              "      <th></th>\n",
              "      <th>client_id</th>\n",
              "      <th>DIR</th>\n",
              "      <th>Age</th>\n",
              "      <th>NumLoans</th>\n",
              "      <th>NumRealEstateLoans</th>\n",
              "      <th>NumDependents</th>\n",
              "      <th>Num30-59Delinquencies</th>\n",
              "      <th>Num60-89Delinquencies</th>\n",
              "      <th>Income</th>\n",
              "      <th>BalanceToCreditLimit</th>\n",
              "      <th>Delinquent90</th>\n",
              "    </tr>\n",
              "  </thead>\n",
              "  <tbody>\n",
              "    <tr>\n",
              "      <th>0</th>\n",
              "      <td>0</td>\n",
              "      <td>0.496289</td>\n",
              "      <td>49.1</td>\n",
              "      <td>13</td>\n",
              "      <td>0</td>\n",
              "      <td>0.0</td>\n",
              "      <td>2</td>\n",
              "      <td>0</td>\n",
              "      <td>5298.360639</td>\n",
              "      <td>0.387028</td>\n",
              "      <td>0</td>\n",
              "    </tr>\n",
              "    <tr>\n",
              "      <th>1</th>\n",
              "      <td>1</td>\n",
              "      <td>0.433567</td>\n",
              "      <td>48.0</td>\n",
              "      <td>9</td>\n",
              "      <td>2</td>\n",
              "      <td>2.0</td>\n",
              "      <td>1</td>\n",
              "      <td>0</td>\n",
              "      <td>6008.056256</td>\n",
              "      <td>0.234679</td>\n",
              "      <td>0</td>\n",
              "    </tr>\n",
              "    <tr>\n",
              "      <th>2</th>\n",
              "      <td>2</td>\n",
              "      <td>2206.731199</td>\n",
              "      <td>55.5</td>\n",
              "      <td>21</td>\n",
              "      <td>1</td>\n",
              "      <td>NaN</td>\n",
              "      <td>1</td>\n",
              "      <td>0</td>\n",
              "      <td>NaN</td>\n",
              "      <td>0.348227</td>\n",
              "      <td>0</td>\n",
              "    </tr>\n",
              "    <tr>\n",
              "      <th>3</th>\n",
              "      <td>3</td>\n",
              "      <td>886.132793</td>\n",
              "      <td>55.3</td>\n",
              "      <td>3</td>\n",
              "      <td>0</td>\n",
              "      <td>0.0</td>\n",
              "      <td>0</td>\n",
              "      <td>0</td>\n",
              "      <td>NaN</td>\n",
              "      <td>0.971930</td>\n",
              "      <td>0</td>\n",
              "    </tr>\n",
              "    <tr>\n",
              "      <th>4</th>\n",
              "      <td>4</td>\n",
              "      <td>0.000000</td>\n",
              "      <td>52.3</td>\n",
              "      <td>1</td>\n",
              "      <td>0</td>\n",
              "      <td>0.0</td>\n",
              "      <td>0</td>\n",
              "      <td>0</td>\n",
              "      <td>2504.613105</td>\n",
              "      <td>1.004350</td>\n",
              "      <td>0</td>\n",
              "    </tr>\n",
              "  </tbody>\n",
              "</table>\n",
              "</div>"
            ],
            "text/plain": [
              "   client_id          DIR  ...  BalanceToCreditLimit  Delinquent90\n",
              "0          0     0.496289  ...              0.387028             0\n",
              "1          1     0.433567  ...              0.234679             0\n",
              "2          2  2206.731199  ...              0.348227             0\n",
              "3          3   886.132793  ...              0.971930             0\n",
              "4          4     0.000000  ...              1.004350             0\n",
              "\n",
              "[5 rows x 11 columns]"
            ]
          },
          "metadata": {
            "tags": []
          },
          "execution_count": 4
        }
      ]
    },
    {
      "cell_type": "code",
      "metadata": {
        "colab_type": "code",
        "id": "XPMJoVm1ZO_p",
        "colab": {}
      },
      "source": [
        "target = data['Delinquent90']\n",
        "X_train, X_val, y_train, y_val = train_test_split(\n",
        "    data.drop(columns=['Delinquent90', 'client_id']), target,\n",
        "    test_size=0.3, shuffle=True, random_state=19\n",
        ")"
      ],
      "execution_count": 0,
      "outputs": []
    },
    {
      "cell_type": "markdown",
      "metadata": {
        "colab_type": "text",
        "id": "MDaQuIP67ovp"
      },
      "source": [
        "Let's play with binner. Check docstring to find out all details about params."
      ]
    },
    {
      "cell_type": "code",
      "metadata": {
        "colab_type": "code",
        "id": "7O7mKe-7LlsM",
        "outputId": "d5ea8b37-b578-4fc9-dc6a-e22a2a2631ff",
        "colab": {
          "base_uri": "https://localhost:8080/",
          "height": 67
        }
      },
      "source": [
        "%%time\n",
        "binner = GiniBinner(\n",
        "    max_bins = 9,\n",
        "    min_size = 0.05,\n",
        "    method = 'anneal',\n",
        "    n_iter = 100,\n",
        "    fast = False,\n",
        "    random_state = 19,\n",
        "    verbose = True\n",
        " )\n",
        "X_train_binned = binner.fit_transform(X_train, y_train)"
      ],
      "execution_count": 6,
      "outputs": [
        {
          "output_type": "stream",
          "text": [
            "100%|██████████| 9/9 [00:07<00:00,  1.20it/s]"
          ],
          "name": "stderr"
        },
        {
          "output_type": "stream",
          "text": [
            "CPU times: user 7.48 s, sys: 37.9 ms, total: 7.52 s\n",
            "Wall time: 7.54 s\n"
          ],
          "name": "stdout"
        },
        {
          "output_type": "stream",
          "text": [
            "\n"
          ],
          "name": "stderr"
        }
      ]
    },
    {
      "cell_type": "markdown",
      "metadata": {
        "id": "BPoqHPi6OMnJ",
        "colab_type": "text"
      },
      "source": [
        "You can find full information about binning results for each variable into report attribute. Check docstring to find out more about particular report parts."
      ]
    },
    {
      "cell_type": "code",
      "metadata": {
        "id": "rzzwCTJnOLiT",
        "colab_type": "code",
        "colab": {
          "base_uri": "https://localhost:8080/",
          "height": 672
        },
        "outputId": "19e597b1-efb0-4469-b7d0-c688e1d15f9f"
      },
      "source": [
        "binner.report['Income']"
      ],
      "execution_count": 7,
      "outputs": [
        {
          "output_type": "execute_result",
          "data": {
            "text/plain": [
              "{'NaN bin': 0,\n",
              " 'Result bins': [0, 1, 2, 3, 4, 5, 6, 7, 8],\n",
              " 'bin_volume': {0: 10370,\n",
              "  1: 3085,\n",
              "  2: 6511,\n",
              "  3: 7691,\n",
              "  4: 507,\n",
              "  5: 4494,\n",
              "  6: 8291,\n",
              "  7: 4942,\n",
              "  8: 6609},\n",
              " 'gini': 0.1511820231308756,\n",
              " 'iv': 0.07322410682592491,\n",
              " 'loss': 0.00176411595201957,\n",
              " 'opt_thresholds': [1702.282157,\n",
              "  3222.754931,\n",
              "  4673.446655,\n",
              "  4796.069725,\n",
              "  5668.494176,\n",
              "  7953.667579999999,\n",
              "  10058.431922],\n",
              " 'target_rate': {0: 0.05718418514946962,\n",
              "  1: 0.08427876823338736,\n",
              "  2: 0.09522346797726923,\n",
              "  3: 0.082434013782343,\n",
              "  4: 0.09467455621301775,\n",
              "  5: 0.07320872274143302,\n",
              "  6: 0.06018574357737305,\n",
              "  7: 0.052812626467017405,\n",
              "  8: 0.042063852322590405},\n",
              " 'woe': {0: 0.1702513608846863,\n",
              "  1: -0.24676019505824587,\n",
              "  2: -0.3808806441407093,\n",
              "  3: -0.22261585105965517,\n",
              "  4: -0.37449300847060535,\n",
              "  5: -0.09392840378768831,\n",
              "  6: 0.11590454194759295,\n",
              "  7: 0.25440442635411764,\n",
              "  8: 0.49325015923022997}}"
            ]
          },
          "metadata": {
            "tags": []
          },
          "execution_count": 7
        }
      ]
    },
    {
      "cell_type": "code",
      "metadata": {
        "colab_type": "code",
        "id": "mw3NCVIl2sJV",
        "outputId": "e6b0e314-6049-4bc2-8c06-3c09c768895e",
        "colab": {
          "base_uri": "https://localhost:8080/",
          "height": 34
        }
      },
      "source": [
        "X_val_binned = binner.transform(X_val)"
      ],
      "execution_count": 8,
      "outputs": [
        {
          "output_type": "stream",
          "text": [
            "100%|██████████| 9/9 [00:00<00:00, 10.24it/s]\n"
          ],
          "name": "stderr"
        }
      ]
    },
    {
      "cell_type": "code",
      "metadata": {
        "colab_type": "code",
        "id": "K95YVKrC8SMv",
        "outputId": "4ef754a5-2d59-41b2-abfb-52fa42cba629",
        "colab": {
          "base_uri": "https://localhost:8080/",
          "height": 34
        }
      },
      "source": [
        "lr = LogisticRegression( )\n",
        "lr.fit(X_train_binned, y_train)\n",
        "y_pred = lr.predict_proba(X_val_binned)[:,1]\n",
        "print('Gini is %.2f' % (100*(roc_auc_score(y_val, y_pred)*2 - 1)))"
      ],
      "execution_count": 9,
      "outputs": [
        {
          "output_type": "stream",
          "text": [
            "Gini is 62.66\n"
          ],
          "name": "stdout"
        }
      ]
    },
    {
      "cell_type": "markdown",
      "metadata": {
        "id": "YBwsy9FsL4En",
        "colab_type": "text"
      },
      "source": [
        "Let's try fast version"
      ]
    },
    {
      "cell_type": "code",
      "metadata": {
        "id": "0MAAIClZL2xX",
        "colab_type": "code",
        "colab": {
          "base_uri": "https://localhost:8080/",
          "height": 67
        },
        "outputId": "36d79bca-0fad-477e-856c-d70015ba328c"
      },
      "source": [
        "%%time\n",
        "binner_fst = GiniBinner(\n",
        "    max_bins = 9,\n",
        "    min_size = 0.05,\n",
        "    method = 'anneal',\n",
        "    n_iter = 100,\n",
        "    fast = True,\n",
        "    starts_from = 100,\n",
        "    random_state = 19,\n",
        "    verbose = True\n",
        " )\n",
        "X_train_binned = binner_fst.fit_transform(X_train, y_train)"
      ],
      "execution_count": 10,
      "outputs": [
        {
          "output_type": "stream",
          "text": [
            "100%|██████████| 9/9 [00:05<00:00,  1.57it/s]"
          ],
          "name": "stderr"
        },
        {
          "output_type": "stream",
          "text": [
            "CPU times: user 5.72 s, sys: 98.2 ms, total: 5.82 s\n",
            "Wall time: 5.76 s\n"
          ],
          "name": "stdout"
        },
        {
          "output_type": "stream",
          "text": [
            "\n"
          ],
          "name": "stderr"
        }
      ]
    },
    {
      "cell_type": "code",
      "metadata": {
        "id": "ruUbvjVyMn7M",
        "colab_type": "code",
        "colab": {
          "base_uri": "https://localhost:8080/",
          "height": 34
        },
        "outputId": "f513ff51-a931-4055-f1e2-fec459ea2f5a"
      },
      "source": [
        "X_val_binned = binner_fst.transform(X_val)"
      ],
      "execution_count": 11,
      "outputs": [
        {
          "output_type": "stream",
          "text": [
            "100%|██████████| 9/9 [00:00<00:00, 10.76it/s]\n"
          ],
          "name": "stderr"
        }
      ]
    },
    {
      "cell_type": "code",
      "metadata": {
        "id": "_dOq2ilQMn9-",
        "colab_type": "code",
        "colab": {
          "base_uri": "https://localhost:8080/",
          "height": 34
        },
        "outputId": "d2538a23-0333-4896-a2bb-403eb75cfc03"
      },
      "source": [
        "lr = LogisticRegression()\n",
        "lr.fit(X_train_binned, y_train)\n",
        "y_pred = lr.predict_proba(X_val_binned)[:,1]\n",
        "print('Gini is %.2f' % (100*(roc_auc_score(y_val, y_pred)*2 - 1)))"
      ],
      "execution_count": 12,
      "outputs": [
        {
          "output_type": "stream",
          "text": [
            "Gini is 62.65\n"
          ],
          "name": "stdout"
        }
      ]
    },
    {
      "cell_type": "markdown",
      "metadata": {
        "id": "dAExrbfXQ05N",
        "colab_type": "text"
      },
      "source": [
        "The same result a bit faster as we can see. But the difference is much more essential on large datasets both in time benefit and quality decreasing. So use this feature carefully."
      ]
    },
    {
      "cell_type": "markdown",
      "metadata": {
        "colab_type": "text",
        "id": "MlJXy4pK2tWk"
      },
      "source": [
        "Model without binning"
      ]
    },
    {
      "cell_type": "code",
      "metadata": {
        "colab_type": "code",
        "id": "HIpXlHpQ2sL_",
        "outputId": "a6d332fd-848e-4e15-baa1-8c33105a6564",
        "colab": {
          "base_uri": "https://localhost:8080/",
          "height": 34
        }
      },
      "source": [
        "data_full = data.dropna()\n",
        "target_full = data_full['Delinquent90']\n",
        "X_train_full, X_val_full, y_train_full, y_val_full = train_test_split(\n",
        "    data_full.drop(columns=['Delinquent90', 'client_id']), target_full,\n",
        "    test_size=0.3, shuffle=True, random_state=19\n",
        ")\n",
        "lr = LogisticRegression()\n",
        "lr.fit(X_train_full, y_train_full)\n",
        "y_pred_full = lr.predict_proba(X_val_full)[:,1]\n",
        "print('Gini is %.2f' % (100*(roc_auc_score(y_val_full, y_pred_full)*2 - 1)))"
      ],
      "execution_count": 13,
      "outputs": [
        {
          "output_type": "stream",
          "text": [
            "Gini is 34.81\n"
          ],
          "name": "stdout"
        }
      ]
    },
    {
      "cell_type": "markdown",
      "metadata": {
        "colab_type": "text",
        "id": "LOSyUshfZO_1"
      },
      "source": [
        "We have got great gain in our model quality!"
      ]
    }
  ]
}